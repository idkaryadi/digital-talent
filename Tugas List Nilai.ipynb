{
 "cells": [
  {
   "cell_type": "code",
   "execution_count": 1,
   "metadata": {},
   "outputs": [
    {
     "name": "stdout",
     "output_type": "stream",
     "text": [
      "[66, 39, 56, 58, 30, 31, 77, 69, 7, 11, 45, 39, 24, 48, 23, 25, 95, 43, 18, 57, 9, 99, 27, 65, 43, 5, 41, 26, 71, 14, 68, 78, 68, 29, 14, 60, 54, 41, 49, 90, 3, 38, 82, 24, 35, 41, 4, 62, 3, 90, 95, 52, 53, 1, 30, 86, 27, 18, 87, 46, 89, 53, 37, 40, 37, 34, 17, 78, 41, 94, 85, 67, 51, 21, 13, 36, 22, 37, 71, 81, 23, 1, 41, 52, 9, 80, 42, 2, 37, 68, 57, 15, 53, 81, 72, 93, 82, 59, 32, 18, 42, 4, 17, 8, 30, 31, 57, 86, 8, 63, 60, 72, 84, 73, 45, 72, 57, 42, 90, 82, 42, 91, 84, 59, 58, 34, 79, 90, 59, 50, 69, 7, 80, 62, 20, 47, 8, 60, 57, 1, 37, 60, 87, 73, 69, 93, 13, 65, 74, 4, 30, 60, 83, 69, 31, 6, 61, 31, 60, 86, 29, 76, 50, 37, 25, 42, 61, 20, 31, 59, 72, 63, 2, 69, 20, 73, 14, 43, 5, 45, 74, 69, 30, 4, 41, 30, 4, 67, 55, 74, 13, 44, 16, 17, 72, 68, 15, 49, 67, 19, 79, 69, 82, 18, 61, 7, 80, 70, 65, 34, 68, 80, 15, 84, 3, 66, 23, 14, 43, 63, 92, 86, 87, 25, 88, 81, 23, 66, 86, 97, 83, 89, 91, 5, 36, 95, 85, 81, 38, 40, 88, 77, 76, 97, 54, 51, 50, 23, 35, 93]\n"
     ]
    }
   ],
   "source": [
    "import random\n",
    "import math #import module math untuk fungsi sqrt()\n",
    "# GENERATE RANDOM\n",
    "nilaiTugas = []\n",
    "for i in range(250):\n",
    "    nilaiTugas.append(random.randrange(1,100,1))\n",
    "\n",
    "print(nilaiTugas)"
   ]
  },
  {
   "cell_type": "code",
   "execution_count": 2,
   "metadata": {},
   "outputs": [
    {
     "name": "stdout",
     "output_type": "stream",
     "text": [
      "Nilai ganjilnya ialah\n",
      "39, 31, 77, 69, 7, 11, 45, 39, 23, 25, 95, 43, 57, 9, 99, 27, 65, 43, 5, 41, 71, 29, 41, 49, 3, 35, 41, 3, 95, 53, 1, 27, 87, 89, 53, 37, 37, 17, 41, 85, 67, 51, 21, 13, 37, 71, 81, 23, 1, 41, 9, 37, 57, 15, 53, 81, 93, 59, 17, 31, 57, 63, 73, 45, 57, 91, 59, 79, 59, 69, 7, 47, 57, 1, 37, 87, 73, 69, 93, 13, 65, 83, 69, 31, 61, 31, 29, 37, 25, 61, 31, 59, 63, 69, 73, 43, 5, 45, 69, 41, 67, 55, 13, 17, 15, 49, 67, 19, 79, 69, 61, 7, 65, 15, 3, 23, 43, 63, 87, 25, 81, 23, 97, 83, 89, 91, 5, 95, 85, 81, 77, 97, 51, 23, 35, 93, "
     ]
    }
   ],
   "source": [
    "# menampilkan semua bilangan ganjil\n",
    "print('Nilai ganjilnya ialah')\n",
    "for n in nilaiTugas:\n",
    "    if n%2==1: #jika n ganjil, n akan dicetak\n",
    "        print(n, end=', ')"
   ]
  },
  {
   "cell_type": "code",
   "execution_count": 3,
   "metadata": {},
   "outputs": [
    {
     "name": "stdout",
     "output_type": "stream",
     "text": [
      "Nilai diatas 70 ada sebanyak 69\n"
     ]
    }
   ],
   "source": [
    "# menghitung nilai > 70\n",
    "atas=0 #iniasi nilai awal variabel anggota list yang lebih dari 70 \n",
    "\n",
    "for n in nilaiTugas:\n",
    "    if n>70:  #nilai variabel akan bertambah jika kondisi sesuai\n",
    "        atas=atas+1\n",
    "        \n",
    "print('Nilai diatas 70 ada sebanyak',atas)"
   ]
  },
  {
   "cell_type": "code",
   "execution_count": 4,
   "metadata": {},
   "outputs": [
    {
     "name": "stdout",
     "output_type": "stream",
     "text": [
      "Standar deviasinya ialah 27.48577025053255\n"
     ]
    }
   ],
   "source": [
    "# standar deviasi\n",
    "sum=0 #inisiasi nilai awal sigma x\n",
    "sum_kuadrat=0 #inisiasi awal sigma x^2\n",
    "\n",
    "for nilai in nilaiTugas:\n",
    "    sum=sum+nilai\n",
    "    sum_kuadrat=sum_kuadrat+nilai**2\n",
    "    \n",
    "n=len(nilaiTugas)\n",
    "ss= (n*sum_kuadrat-sum**2)/(n*(n-1)) #menghitung variansi\n",
    "s=math.sqrt(ss) #menghitung standar deviasi\n",
    "\n",
    "print('Standar deviasinya ialah',s)"
   ]
  },
  {
   "cell_type": "code",
   "execution_count": 5,
   "metadata": {},
   "outputs": [
    {
     "name": "stdout",
     "output_type": "stream",
     "text": [
      "Minimal:  1\n",
      "Maksimal:  99\n"
     ]
    }
   ],
   "source": [
    "# Nilai maksimum\n",
    "max=nilaiTugas[0] #mendefinisikan nilai pertama list ialah nilai maksimal\n",
    "\n",
    "for n in nilaiTugas:\n",
    "    if n>max: #jika bertemu dengan nilai yang lebih besar, nilai max akan digantikan\n",
    "        max=n\n",
    "        \n",
    "# Nilai minimum\n",
    "min=nilaiTugas[0] #mendefinisikan nilai pertama list ialah nilai minimal\n",
    "\n",
    "for n in nilaiTugas: #jika bertemu dengan nilai yang lebih kecil, nilai min akan digantikan\n",
    "    if n<min:\n",
    "        min=n\n",
    "        \n",
    "print('Minimal: ', min)\n",
    "print('Maksimal: ', max)"
   ]
  },
  {
   "cell_type": "code",
   "execution_count": 6,
   "metadata": {},
   "outputs": [
    {
     "name": "stdout",
     "output_type": "stream",
     "text": [
      "Modusnya ialah 69 muncul sebanyak 7\n"
     ]
    }
   ],
   "source": [
    "# memunculkan nilai modus\n",
    "\n",
    "#mendefinisikan nilai pertama list ialah modus\n",
    "nilai_modus=nilaiTugas[0]  \n",
    "\n",
    "#menghitung banyaknya kemunculan nilai pertama\n",
    "jumlah=0\n",
    "for n in nilaiTugas:\n",
    "    if n==nilai_modus:\n",
    "        jumlah=jumlah+1\n",
    "\n",
    "#algoritma mencari modus\n",
    "#mencari jumlah kemunculan setiap nilai di nilaiTugas\n",
    "for i in nilaiTugas:\n",
    "    jumlah_n=0\n",
    "    for j in nilaiTugas:\n",
    "        if i==j:\n",
    "            jumlah_n=jumlah_n+1\n",
    "            \n",
    "    #jika ada bilangan yang lebih banyak muncul, nilai awal akan digantikan\n",
    "    if jumlah<jumlah_n:\n",
    "        nilai_modus=i\n",
    "        jumlah=jumlah_n\n",
    "print('Modusnya ialah',nilai_modus,'muncul sebanyak',jumlah)"
   ]
  },
  {
   "cell_type": "code",
   "execution_count": null,
   "metadata": {},
   "outputs": [],
   "source": []
  }
 ],
 "metadata": {
  "kernelspec": {
   "display_name": "Python 3",
   "language": "python",
   "name": "python3"
  },
  "language_info": {
   "codemirror_mode": {
    "name": "ipython",
    "version": 3
   },
   "file_extension": ".py",
   "mimetype": "text/x-python",
   "name": "python",
   "nbconvert_exporter": "python",
   "pygments_lexer": "ipython3",
   "version": "3.7.0"
  }
 },
 "nbformat": 4,
 "nbformat_minor": 2
}
