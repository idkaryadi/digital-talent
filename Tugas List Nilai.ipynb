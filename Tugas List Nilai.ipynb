{
 "cells": [
  {
   "cell_type": "code",
   "execution_count": 1,
   "metadata": {},
   "outputs": [
    {
     "name": "stdout",
     "output_type": "stream",
     "text": [
      "[23, 51, 61, 13, 87, 13, 32, 30, 94, 1, 29, 4, 40, 76, 96, 49, 46, 50, 60, 96, 57, 91, 69, 45, 82, 26, 59, 42, 19, 20, 66, 50, 39, 47, 38, 11, 4, 81, 48, 26, 95, 27, 11, 53, 41, 36, 90, 47, 99, 74, 51, 67, 6, 78, 94, 69, 73, 73, 64, 92, 68, 76, 77, 60, 5, 34, 23, 86, 38, 81, 57, 63, 38, 51, 3, 61, 98, 76, 43, 29, 69, 13, 36, 90, 22, 2, 13, 42, 97, 68, 35, 32, 69, 53, 21, 12, 27, 49, 61, 96, 35, 87, 28, 48, 9, 31, 35, 81, 99, 20, 90, 86, 97, 38, 77, 3, 9, 92, 38, 76, 16, 83, 64, 56, 23, 69, 39, 1, 21, 51, 97, 31, 61, 63, 14, 98, 54, 68, 1, 7, 91, 53, 76, 29, 57, 46, 43, 13, 29, 16, 95, 60, 61, 38, 69, 17, 31, 63, 36, 38, 81, 57, 46, 88, 68, 95, 14, 24, 42, 64, 21, 49, 29, 36, 23, 82, 64, 64, 82, 12, 64, 69, 27, 12, 56, 9, 97, 41, 95, 25, 27, 90, 4, 48, 21, 89, 26, 95, 34, 61, 94, 42, 80, 7, 47, 56, 95, 32, 62, 23, 56, 5, 50, 79, 94, 95, 24, 45, 6, 17, 92, 29, 66, 90, 51, 2, 15, 98, 41, 32, 43, 17, 41, 64, 26, 61, 42, 60, 38, 63, 76, 43, 43, 68, 88, 70, 63, 89, 5, 27]\n"
     ]
    }
   ],
   "source": [
    "import random\n",
    "import math #import module math untuk fungsi sqrt()\n",
    "# GENERATE RANDOM\n",
    "nilaiTugas = []\n",
    "for i in range(250):\n",
    "    nilaiTugas.append(random.randrange(1,100,1))\n",
    "\n",
    "print(nilaiTugas)"
   ]
  },
  {
   "cell_type": "code",
   "execution_count": 2,
   "metadata": {},
   "outputs": [
    {
     "name": "stdout",
     "output_type": "stream",
     "text": [
      "Nilai ganjilnya ialah\n",
      "23\n",
      "51\n",
      "61\n",
      "13\n",
      "87\n",
      "13\n",
      "1\n",
      "29\n",
      "49\n",
      "57\n",
      "91\n",
      "69\n",
      "45\n",
      "59\n",
      "19\n",
      "39\n",
      "47\n",
      "11\n",
      "81\n",
      "95\n",
      "27\n",
      "11\n",
      "53\n",
      "41\n",
      "47\n",
      "99\n",
      "51\n",
      "67\n",
      "69\n",
      "73\n",
      "73\n",
      "77\n",
      "5\n",
      "23\n",
      "81\n",
      "57\n",
      "63\n",
      "51\n",
      "3\n",
      "61\n",
      "43\n",
      "29\n",
      "69\n",
      "13\n",
      "13\n",
      "97\n",
      "35\n",
      "69\n",
      "53\n",
      "21\n",
      "27\n",
      "49\n",
      "61\n",
      "35\n",
      "87\n",
      "9\n",
      "31\n",
      "35\n",
      "81\n",
      "99\n",
      "97\n",
      "77\n",
      "3\n",
      "9\n",
      "83\n",
      "23\n",
      "69\n",
      "39\n",
      "1\n",
      "21\n",
      "51\n",
      "97\n",
      "31\n",
      "61\n",
      "63\n",
      "1\n",
      "7\n",
      "91\n",
      "53\n",
      "29\n",
      "57\n",
      "43\n",
      "13\n",
      "29\n",
      "95\n",
      "61\n",
      "69\n",
      "17\n",
      "31\n",
      "63\n",
      "81\n",
      "57\n",
      "95\n",
      "21\n",
      "49\n",
      "29\n",
      "23\n",
      "69\n",
      "27\n",
      "9\n",
      "97\n",
      "41\n",
      "95\n",
      "25\n",
      "27\n",
      "21\n",
      "89\n",
      "95\n",
      "61\n",
      "7\n",
      "47\n",
      "95\n",
      "23\n",
      "5\n",
      "79\n",
      "95\n",
      "45\n",
      "17\n",
      "29\n",
      "51\n",
      "15\n",
      "41\n",
      "43\n",
      "17\n",
      "41\n",
      "61\n",
      "63\n",
      "43\n",
      "43\n",
      "63\n",
      "89\n",
      "5\n",
      "27\n"
     ]
    }
   ],
   "source": [
    "# menampilkan semua bilangan ganjil\n",
    "print('Nilai ganjilnya ialah')\n",
    "for n in nilaiTugas:\n",
    "    if n%2==1: #jika n ganjil, n akan dicetak\n",
    "        print(n)"
   ]
  },
  {
   "cell_type": "code",
   "execution_count": 4,
   "metadata": {},
   "outputs": [
    {
     "name": "stdout",
     "output_type": "stream",
     "text": [
      "Nilai diatas 70 ada sebanyak 63\n"
     ]
    }
   ],
   "source": [
    "# menghitung nilai > 70\n",
    "atas=0 #iniasi nilai awal variabel anggota list yang lebih dari 70 \n",
    "\n",
    "for n in nilaiTugas:\n",
    "    if n>70:  #nilai variabel akan bertambah jika kondisi sesuai\n",
    "        atas=atas+1\n",
    "        \n",
    "print('Nilai diatas 70 ada sebanyak',atas)"
   ]
  },
  {
   "cell_type": "code",
   "execution_count": 5,
   "metadata": {},
   "outputs": [
    {
     "name": "stdout",
     "output_type": "stream",
     "text": [
      "Standar deviasinya ialah 28.094397675032855\n"
     ]
    }
   ],
   "source": [
    "# standar deviasi\n",
    "sum=0 #inisiasi nilai awal sigma x\n",
    "sum_kuadrat=0 #inisiasi awal sigma x^2\n",
    "\n",
    "for nilai in nilaiTugas:\n",
    "    sum=sum+nilai\n",
    "    sum_kuadrat=sum_kuadrat+nilai**2\n",
    "    \n",
    "n=len(nilaiTugas)\n",
    "ss= (n*sum_kuadrat-sum**2)/(n*(n-1)) #menghitung variansi\n",
    "s=math.sqrt(ss) #menghitung standar deviasi\n",
    "\n",
    "print('Standar deviasinya ialah',s)"
   ]
  },
  {
   "cell_type": "code",
   "execution_count": 6,
   "metadata": {},
   "outputs": [
    {
     "name": "stdout",
     "output_type": "stream",
     "text": [
      "Minimal:  1\n",
      "Maksimal:  99\n"
     ]
    }
   ],
   "source": [
    "# Nilai maksimum\n",
    "max=nilaiTugas[0] #mendefinisikan nilai pertama list ialah nilai maksimal\n",
    "\n",
    "for n in nilaiTugas:\n",
    "    if n>max: #jika bertemu dengan nilai yang lebih besar, nilai max akan digantikan\n",
    "        max=n\n",
    "        \n",
    "# Nilai minimum\n",
    "min=nilaiTugas[0] #mendefinisikan nilai pertama list ialah nilai minimal\n",
    "\n",
    "for n in nilaiTugas: #jika bertemu dengan nilai yang lebih kecil, nilai min akan digantikan\n",
    "    if n<min:\n",
    "        min=n\n",
    "        \n",
    "print('Minimal: ', min)\n",
    "print('Maksimal: ', max)"
   ]
  },
  {
   "cell_type": "code",
   "execution_count": 7,
   "metadata": {},
   "outputs": [
    {
     "name": "stdout",
     "output_type": "stream",
     "text": [
      "Modusnya ialah  38\n"
     ]
    }
   ],
   "source": [
    "# modus\n",
    "nilai_modus=nilaiTugas[0] #mendefinisikan nilai pertama list ialah modus\n",
    "jumlah=nilaiTugas.count(nilai_modus) #menghitung banyaknya kemunculan nilai pertama\n",
    "\n",
    "for n in nilaiTugas:\n",
    "    jumlah_n=nilaiTugas.count(n)\n",
    "    if jumlah_n>jumlah: #jika ada bilangan yang lebih banyak muncul, nilai awal akan digantikan\n",
    "        nilai_modus=n\n",
    "        jumlah=jumlah_n\n",
    "        \n",
    "print('Modusnya ialah ', nilai_modus)"
   ]
  }
 ],
 "metadata": {
  "kernelspec": {
   "display_name": "Python 3",
   "language": "python",
   "name": "python3"
  },
  "language_info": {
   "codemirror_mode": {
    "name": "ipython",
    "version": 3
   },
   "file_extension": ".py",
   "mimetype": "text/x-python",
   "name": "python",
   "nbconvert_exporter": "python",
   "pygments_lexer": "ipython3",
   "version": "3.7.0"
  }
 },
 "nbformat": 4,
 "nbformat_minor": 2
}
