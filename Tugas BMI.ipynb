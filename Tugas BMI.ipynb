{
 "cells": [
  {
   "cell_type": "markdown",
   "metadata": {},
   "source": [
    "Program BMI oleh Karyadi\n",
    "\n",
    "Program ini ialah program yang akan mengeluarkan Kategori BMI berdasarkan variabel berat badan dan tinggi badan. Program ini menggunakan dua variabel, yakni\n",
    "    1. berat_badan_kg : variabel yang menyatakan berat badan dalam satuan kilogram (kg)\n",
    "    2. tinggi_badan_cm : variabel yang menyatakan tinggi badan dalam satuan centimeter (cm)\n",
    "\n",
    "Body Mass Index (BMI) menentukan sebuah keidealan berat badan terhadap tinggi badan. Formula dari BMI : BMI = weight (kg) ÷ height^2 (m^2). BMI memiliki kategori sebagai berikut:\n",
    "\n",
    "         BMI                 Kategori\n",
    "Kurang dari 15          Very severely underweight\t\n",
    "Diantara 15 dan 16      Severely underweight\t\n",
    "Diantara 16 dan 18.5    Underweight\t\n",
    "Diantara 18.5 dan 25    Normal (healthy weight)\t\n",
    "Diantara 25 dan 30      Overweight\t\n",
    "Diantara 30 dan 35      Moderately obese\t\n",
    "Diantara 35 dan 40      Severely obese\t\n",
    "Over 40                Very severely obese"
   ]
  },
  {
   "cell_type": "code",
   "execution_count": 1,
   "metadata": {},
   "outputs": [
    {
     "name": "stdout",
     "output_type": "stream",
     "text": [
      "Kategori BMI nya ialah:\n",
      "Underweight\n"
     ]
    }
   ],
   "source": [
    "#memasukan nilai kepada 2 variabel yang ada\n",
    "berat_badan_kg = 52.5 #nilai bisa diubah ubah\n",
    "tinggi_badan_cm = 171  #nilai bisa diubah ubah\n",
    "\n",
    "#menggubah tinggi_badan_cm menjadi tinggi_badan_m, agar tinggi bersatuan meter \n",
    "tinggi_badan_m = tinggi_badan_cm/100\n",
    "\n",
    "#menghitung nilai BMI\n",
    "bmi = berat_badan_kg/(tinggi_badan_m**2)\n",
    "\n",
    "#menampilkan kategori BMI\n",
    "print('Kategori BMI nya ialah:')\n",
    "\n",
    "#algoritma penentuan kategori berdasarkan nilai BMI\n",
    "if bmi<0: #hanya untuk jaga jaga apabila ada input yang menyebabkan nilai bmi menjadi negatif\n",
    "    print('Invalid Input')\n",
    "elif bmi<15:\n",
    "    print('Very severely underweight')\n",
    "elif bmi<16:\n",
    "    print('Severely underweight')\n",
    "elif bmi<18.5:\n",
    "    print('Underweight')\n",
    "elif bmi<25:\n",
    "    print('Normal (healthy weight)')\n",
    "elif bmi<30:\n",
    "    print('Overweight')\n",
    "elif bmi<35:\n",
    "    print('Moderately obese')\n",
    "elif bmi<40:\n",
    "    print('Severely obese')\n",
    "else:\n",
    "    print('Very severely obese')\n"
   ]
  },
  {
   "cell_type": "code",
   "execution_count": null,
   "metadata": {},
   "outputs": [],
   "source": []
  }
 ],
 "metadata": {
  "kernelspec": {
   "display_name": "Python 3",
   "language": "python",
   "name": "python3"
  },
  "language_info": {
   "codemirror_mode": {
    "name": "ipython",
    "version": 3
   },
   "file_extension": ".py",
   "mimetype": "text/x-python",
   "name": "python",
   "nbconvert_exporter": "python",
   "pygments_lexer": "ipython3",
   "version": "3.7.0"
  }
 },
 "nbformat": 4,
 "nbformat_minor": 2
}
